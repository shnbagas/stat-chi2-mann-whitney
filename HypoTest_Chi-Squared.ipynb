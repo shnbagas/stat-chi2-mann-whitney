{
 "cells": [
  {
   "cell_type": "markdown",
   "id": "b94e4d92",
   "metadata": {},
   "source": [
    "Introduction:\n",
    "\n",
    "Aim of this kernel is to perform a chi-square test to check whether two variables are independent or not.\n",
    "\n",
    "Data:\n",
    "\n",
    "The data comes in from the aircraft wildlife strikes data set and it contains records of wildlife strikes against aircrafts from 1990 to 2015.\n",
    "\n",
    "We would be looking at indepedence testing for these two scenarios:\n",
    "\n",
    "1. visibility and flight impact\n",
    "2. if there is a different impact caused by Seagulls and Mourning doves."
   ]
  },
  {
   "cell_type": "code",
   "execution_count": 2,
   "id": "7f963eed",
   "metadata": {},
   "outputs": [],
   "source": [
    "import numpy as np\n",
    "import pandas as pd\n",
    "import scipy.stats as stats"
   ]
  },
  {
   "cell_type": "code",
   "execution_count": 4,
   "id": "6b4c5036",
   "metadata": {},
   "outputs": [
    {
     "name": "stderr",
     "output_type": "stream",
     "text": [
      "C:\\Users\\lenovo\\AppData\\Local\\Temp\\ipykernel_18640\\205500231.py:1: DtypeWarning: Columns (9,12,15,17) have mixed types. Specify dtype option on import or set low_memory=False.\n",
      "  aircraft = pd.read_csv(\"E:\\\\Bagas's File\\\\Data Science Bagas\\\\Datasets\\\\database.csv\")\n"
     ]
    }
   ],
   "source": [
    "aircraft = pd.read_csv(\"E:\\\\Bagas's File\\\\Data Science Bagas\\\\Datasets\\\\database.csv\")"
   ]
  },
  {
   "cell_type": "code",
   "execution_count": 8,
   "id": "e8bb21ad",
   "metadata": {
    "scrolled": true
   },
   "outputs": [
    {
     "data": {
      "text/html": [
       "<div>\n",
       "<style scoped>\n",
       "    .dataframe tbody tr th:only-of-type {\n",
       "        vertical-align: middle;\n",
       "    }\n",
       "\n",
       "    .dataframe tbody tr th {\n",
       "        vertical-align: top;\n",
       "    }\n",
       "\n",
       "    .dataframe thead th {\n",
       "        text-align: right;\n",
       "    }\n",
       "</style>\n",
       "<table border=\"1\" class=\"dataframe\">\n",
       "  <thead>\n",
       "    <tr style=\"text-align: right;\">\n",
       "      <th></th>\n",
       "      <th>Record ID</th>\n",
       "      <th>Incident Year</th>\n",
       "      <th>Incident Month</th>\n",
       "      <th>Incident Day</th>\n",
       "      <th>Operator ID</th>\n",
       "      <th>Operator</th>\n",
       "      <th>Aircraft</th>\n",
       "      <th>Aircraft Type</th>\n",
       "      <th>Aircraft Make</th>\n",
       "      <th>Aircraft Model</th>\n",
       "      <th>...</th>\n",
       "      <th>Fuselage Strike</th>\n",
       "      <th>Fuselage Damage</th>\n",
       "      <th>Landing Gear Strike</th>\n",
       "      <th>Landing Gear Damage</th>\n",
       "      <th>Tail Strike</th>\n",
       "      <th>Tail Damage</th>\n",
       "      <th>Lights Strike</th>\n",
       "      <th>Lights Damage</th>\n",
       "      <th>Other Strike</th>\n",
       "      <th>Other Damage</th>\n",
       "    </tr>\n",
       "  </thead>\n",
       "  <tbody>\n",
       "    <tr>\n",
       "      <th>0</th>\n",
       "      <td>127128</td>\n",
       "      <td>1990</td>\n",
       "      <td>1</td>\n",
       "      <td>1</td>\n",
       "      <td>DAL</td>\n",
       "      <td>DELTA AIR LINES</td>\n",
       "      <td>B-757-200</td>\n",
       "      <td>A</td>\n",
       "      <td>148</td>\n",
       "      <td>26</td>\n",
       "      <td>...</td>\n",
       "      <td>0</td>\n",
       "      <td>0</td>\n",
       "      <td>0</td>\n",
       "      <td>0</td>\n",
       "      <td>1</td>\n",
       "      <td>1</td>\n",
       "      <td>0</td>\n",
       "      <td>0</td>\n",
       "      <td>0</td>\n",
       "      <td>0</td>\n",
       "    </tr>\n",
       "    <tr>\n",
       "      <th>1</th>\n",
       "      <td>129779</td>\n",
       "      <td>1990</td>\n",
       "      <td>1</td>\n",
       "      <td>1</td>\n",
       "      <td>HAL</td>\n",
       "      <td>HAWAIIAN AIR</td>\n",
       "      <td>DC-9</td>\n",
       "      <td>A</td>\n",
       "      <td>583</td>\n",
       "      <td>90</td>\n",
       "      <td>...</td>\n",
       "      <td>0</td>\n",
       "      <td>0</td>\n",
       "      <td>0</td>\n",
       "      <td>0</td>\n",
       "      <td>0</td>\n",
       "      <td>0</td>\n",
       "      <td>0</td>\n",
       "      <td>0</td>\n",
       "      <td>1</td>\n",
       "      <td>0</td>\n",
       "    </tr>\n",
       "    <tr>\n",
       "      <th>2</th>\n",
       "      <td>129780</td>\n",
       "      <td>1990</td>\n",
       "      <td>1</td>\n",
       "      <td>2</td>\n",
       "      <td>UNK</td>\n",
       "      <td>UNKNOWN</td>\n",
       "      <td>UNKNOWN</td>\n",
       "      <td>NaN</td>\n",
       "      <td>NaN</td>\n",
       "      <td>NaN</td>\n",
       "      <td>...</td>\n",
       "      <td>0</td>\n",
       "      <td>0</td>\n",
       "      <td>0</td>\n",
       "      <td>0</td>\n",
       "      <td>0</td>\n",
       "      <td>0</td>\n",
       "      <td>0</td>\n",
       "      <td>0</td>\n",
       "      <td>0</td>\n",
       "      <td>0</td>\n",
       "    </tr>\n",
       "    <tr>\n",
       "      <th>3</th>\n",
       "      <td>2258</td>\n",
       "      <td>1990</td>\n",
       "      <td>1</td>\n",
       "      <td>3</td>\n",
       "      <td>MIL</td>\n",
       "      <td>MILITARY</td>\n",
       "      <td>A-10A</td>\n",
       "      <td>A</td>\n",
       "      <td>345</td>\n",
       "      <td>NaN</td>\n",
       "      <td>...</td>\n",
       "      <td>0</td>\n",
       "      <td>0</td>\n",
       "      <td>0</td>\n",
       "      <td>0</td>\n",
       "      <td>0</td>\n",
       "      <td>0</td>\n",
       "      <td>0</td>\n",
       "      <td>0</td>\n",
       "      <td>0</td>\n",
       "      <td>0</td>\n",
       "    </tr>\n",
       "    <tr>\n",
       "      <th>4</th>\n",
       "      <td>2257</td>\n",
       "      <td>1990</td>\n",
       "      <td>1</td>\n",
       "      <td>3</td>\n",
       "      <td>MIL</td>\n",
       "      <td>MILITARY</td>\n",
       "      <td>F-16</td>\n",
       "      <td>A</td>\n",
       "      <td>561</td>\n",
       "      <td>NaN</td>\n",
       "      <td>...</td>\n",
       "      <td>0</td>\n",
       "      <td>0</td>\n",
       "      <td>0</td>\n",
       "      <td>0</td>\n",
       "      <td>0</td>\n",
       "      <td>0</td>\n",
       "      <td>0</td>\n",
       "      <td>0</td>\n",
       "      <td>0</td>\n",
       "      <td>0</td>\n",
       "    </tr>\n",
       "  </tbody>\n",
       "</table>\n",
       "<p>5 rows × 66 columns</p>\n",
       "</div>"
      ],
      "text/plain": [
       "   Record ID  Incident Year  Incident Month  Incident Day Operator ID  \\\n",
       "0     127128           1990               1             1         DAL   \n",
       "1     129779           1990               1             1         HAL   \n",
       "2     129780           1990               1             2         UNK   \n",
       "3       2258           1990               1             3         MIL   \n",
       "4       2257           1990               1             3         MIL   \n",
       "\n",
       "          Operator   Aircraft Aircraft Type Aircraft Make Aircraft Model  ...  \\\n",
       "0  DELTA AIR LINES  B-757-200             A           148             26  ...   \n",
       "1     HAWAIIAN AIR       DC-9             A           583             90  ...   \n",
       "2          UNKNOWN    UNKNOWN           NaN           NaN            NaN  ...   \n",
       "3         MILITARY      A-10A             A           345            NaN  ...   \n",
       "4         MILITARY       F-16             A           561            NaN  ...   \n",
       "\n",
       "   Fuselage Strike  Fuselage Damage Landing Gear Strike  Landing Gear Damage  \\\n",
       "0                0                0                   0                    0   \n",
       "1                0                0                   0                    0   \n",
       "2                0                0                   0                    0   \n",
       "3                0                0                   0                    0   \n",
       "4                0                0                   0                    0   \n",
       "\n",
       "  Tail Strike Tail Damage  Lights Strike Lights Damage  Other Strike  \\\n",
       "0           1           1              0             0             0   \n",
       "1           0           0              0             0             1   \n",
       "2           0           0              0             0             0   \n",
       "3           0           0              0             0             0   \n",
       "4           0           0              0             0             0   \n",
       "\n",
       "  Other Damage  \n",
       "0            0  \n",
       "1            0  \n",
       "2            0  \n",
       "3            0  \n",
       "4            0  \n",
       "\n",
       "[5 rows x 66 columns]"
      ]
     },
     "execution_count": 8,
     "metadata": {},
     "output_type": "execute_result"
    }
   ],
   "source": [
    "aircraft.head()"
   ]
  },
  {
   "cell_type": "code",
   "execution_count": 5,
   "id": "f600f78c",
   "metadata": {
    "scrolled": true
   },
   "outputs": [
    {
     "data": {
      "text/plain": [
       "Power_divergenceResult(statistic=240989.20211926798, pvalue=0.0)"
      ]
     },
     "execution_count": 5,
     "metadata": {},
     "output_type": "execute_result"
    }
   ],
   "source": [
    "# One-way chisquare test to see if states are evenly distributed\n",
    "stats.chisquare(aircraft['State'].value_counts())"
   ]
  },
  {
   "cell_type": "code",
   "execution_count": 18,
   "id": "cedf6fbe",
   "metadata": {},
   "outputs": [
    {
     "data": {
      "text/plain": [
       "Power_divergenceResult(statistic=11608552.48272652, pvalue=0.0)"
      ]
     },
     "execution_count": 18,
     "metadata": {},
     "output_type": "execute_result"
    }
   ],
   "source": [
    "# One-way chisquare test to see if species name are evenly distributed\n",
    "stats.chisquare(aircraft['Species Name'].value_counts())"
   ]
  },
  {
   "cell_type": "code",
   "execution_count": 6,
   "id": "0505f38f",
   "metadata": {},
   "outputs": [],
   "source": [
    "# Combine the engine shutdown and engine shut down entries in flight impact column\n",
    "aircraft.loc[aircraft[\"Flight Impact\"] == \"ENGINE SHUT DOWN\", \"Flight Impact\"] = \"ENGINE SHUTDOWN\""
   ]
  },
  {
   "cell_type": "code",
   "execution_count": 9,
   "id": "acb8d765",
   "metadata": {},
   "outputs": [
    {
     "name": "stdout",
     "output_type": "stream",
     "text": [
      "Flight Impact  ABORTED TAKEOFF  ENGINE SHUTDOWN   NONE  OTHER  \\\n",
      "Visibility                                                      \n",
      "DAWN                       124               29   2872     42   \n",
      "DAY                       1730              254  49291   1238   \n",
      "DUSK                       127               39   3787    110   \n",
      "NIGHT                      239               98  25796    549   \n",
      "UNKNOWN                      0                0      1      0   \n",
      "\n",
      "Flight Impact  PRECAUTIONARY LANDING  \n",
      "Visibility                            \n",
      "DAWN                             190  \n",
      "DAY                             3852  \n",
      "DUSK                             309  \n",
      "NIGHT                           1460  \n",
      "UNKNOWN                            0  \n"
     ]
    },
    {
     "data": {
      "text/plain": [
       "(601.1722402084056,\n",
       " 1.2901998940571034e-117,\n",
       " 16,\n",
       " array([[7.84759651e+01, 1.48468042e+01, 2.88971834e+03, 6.85427461e+01,\n",
       "         2.05416141e+02],\n",
       "        [1.35808958e+03, 2.56935867e+02, 5.00088960e+04, 1.18618725e+03,\n",
       "         3.55489125e+03],\n",
       "        [1.05341394e+02, 1.99294529e+01, 3.87898330e+03, 9.20076408e+01,\n",
       "         2.75738216e+02],\n",
       "        [6.78068963e+02, 1.28283317e+02, 2.49685151e+04, 5.92241315e+02,\n",
       "         1.77489132e+03],\n",
       "        [2.40945548e-02, 4.55842930e-03, 8.87233142e-01, 2.10447486e-02,\n",
       "         6.30691253e-02]]))"
      ]
     },
     "execution_count": 9,
     "metadata": {},
     "output_type": "execute_result"
    }
   ],
   "source": [
    "# Two-way Chisquare test for the relationship between visibility and flight impact\n",
    "contingencyTable = pd.crosstab(aircraft['Visibility'],aircraft['Flight Impact'])\n",
    "print(contingencyTable)\n",
    "stat, p, dof, expected = stats.chi2_contingency(contingencyTable)\n",
    "stat, p, dof, expected"
   ]
  },
  {
   "cell_type": "markdown",
   "id": "31b3f3f6",
   "metadata": {},
   "source": [
    "Let's setup the null hypothesis vs alternate hypothesis testing via below code to understand if the hypothesis holds or not."
   ]
  },
  {
   "cell_type": "code",
   "execution_count": 11,
   "id": "b75c8b14",
   "metadata": {},
   "outputs": [
    {
     "name": "stdout",
     "output_type": "stream",
     "text": [
      "Dependent (reject H0)\n"
     ]
    }
   ],
   "source": [
    "# interpret test-statistic\n",
    "prob = 0.95\n",
    "critical = stats.chi2.ppf(prob, dof)\n",
    "if abs(stat) >= critical:\n",
    "    print('Dependent (reject H0)')\n",
    "else:\n",
    "    print('Independent (fail to reject H0)')"
   ]
  },
  {
   "cell_type": "markdown",
   "id": "cfef5121",
   "metadata": {},
   "source": [
    "As we have used the chi2_contigency method, let's understand the output:\n",
    "\n",
    "1. 601.172 = The test statistic.\n",
    "2. 1.29019 = p-value\n",
    "3. 16 = degrees of freedom\n",
    "4. array = expected frequencies"
   ]
  },
  {
   "cell_type": "code",
   "execution_count": 12,
   "id": "c32fd826",
   "metadata": {},
   "outputs": [
    {
     "data": {
      "text/plain": [
       "(81.84385799476242,\n",
       " 7.083914416658326e-17,\n",
       " 4,\n",
       " array([[ 261.6898332 ,   38.12271644, 4117.89952343,  111.13741064,\n",
       "          352.15051628],\n",
       "        [ 143.3101668 ,   20.87728356, 2255.10047657,   60.86258936,\n",
       "          192.84948372]]))"
      ]
     },
     "execution_count": 12,
     "metadata": {},
     "output_type": "execute_result"
    }
   ],
   "source": [
    "# Two-way chisquare test to see whether mourning doves and gulls cause different impact\n",
    "subset = aircraft.loc[aircraft['Species Name'].isin(['MOURNING DOVE','GULL'])]\n",
    "\n",
    "bird_impact = pd.crosstab(subset[\"Species Name\"], subset[\"Flight Impact\"])\n",
    "stat, p, dof, expected = stats.chi2_contingency(bird_impact)\n",
    "stat, p, dof, expected"
   ]
  },
  {
   "cell_type": "code",
   "execution_count": 13,
   "id": "9f40fe5c",
   "metadata": {},
   "outputs": [
    {
     "name": "stdout",
     "output_type": "stream",
     "text": [
      "Dependent (reject H0)\n"
     ]
    }
   ],
   "source": [
    "# interpret test-statistic\n",
    "prob = 0.95\n",
    "critical = stats.chi2.ppf(prob, dof)\n",
    "if abs(stat) >= critical:\n",
    "    print('Dependent (reject H0)')\n",
    "else:\n",
    "    print('Independent (fail to reject H0)')"
   ]
  },
  {
   "cell_type": "markdown",
   "id": "f8851e01",
   "metadata": {},
   "source": [
    "1. 81.843 = The test statistic.\n",
    "2. 7.08391 = p-value\n",
    "3. 4 = degrees of freedom\n",
    "4. array = expected frequencies\n",
    "\n",
    "As we can see from the above results, the variables are dependent."
   ]
  },
  {
   "cell_type": "code",
   "execution_count": 14,
   "id": "4cd1b10b",
   "metadata": {},
   "outputs": [
    {
     "name": "stdout",
     "output_type": "stream",
     "text": [
      "Flight Impact  ABORTED TAKEOFF  ENGINE SHUTDOWN   NONE  OTHER  \\\n",
      "Aircraft Make                                                   \n",
      "04A                         84               28  10781    214   \n",
      "100                          0                0      1      0   \n",
      "107                          0                0      1      0   \n",
      "123                        192               17   2648     94   \n",
      "128                          1                2    233     31   \n",
      "...                        ...              ...    ...    ...   \n",
      "972                          0                0      1      0   \n",
      "975                          0                0      4      0   \n",
      "998                          3                5     88     22   \n",
      "HEL                          0                1      5      1   \n",
      "Q                            0                0      1      0   \n",
      "\n",
      "Flight Impact  PRECAUTIONARY LANDING  \n",
      "Aircraft Make                         \n",
      "04A                              221  \n",
      "100                                1  \n",
      "107                                0  \n",
      "123                              325  \n",
      "128                              206  \n",
      "...                              ...  \n",
      "972                                0  \n",
      "975                                0  \n",
      "998                               53  \n",
      "HEL                                5  \n",
      "Q                                  0  \n",
      "\n",
      "[89 rows x 5 columns]\n"
     ]
    },
    {
     "data": {
      "text/plain": [
       "(13308.518457786493,\n",
       " 0.0,\n",
       " 352,\n",
       " array([[2.62033527e+02, 5.18740698e+01, 1.00621801e+04, 2.72107286e+02,\n",
       "         6.79805054e+02],\n",
       "        [4.62629814e-02, 9.15855753e-03, 1.77651484e+00, 4.80415406e-02,\n",
       "         1.20022079e-01],\n",
       "        [2.31314907e-02, 4.57927876e-03, 8.88257421e-01, 2.40207703e-02,\n",
       "         6.00110393e-02],\n",
       "        [7.57787636e+01, 1.50017172e+01, 2.90993131e+03, 7.86920435e+01,\n",
       "         1.96596165e+02],\n",
       "        [1.09411951e+01, 2.16599886e+00, 4.20145760e+02, 1.13618244e+01,\n",
       "         2.83852216e+01],\n",
       "        [8.32733666e-01, 1.64854035e-01, 3.19772672e+01, 8.64747731e-01,\n",
       "         2.16039742e+00],\n",
       "        [2.31314907e-02, 4.57927876e-03, 8.88257421e-01, 2.40207703e-02,\n",
       "         6.00110393e-02],\n",
       "        [2.31314907e-02, 4.57927876e-03, 8.88257421e-01, 2.40207703e-02,\n",
       "         6.00110393e-02],\n",
       "        [7.83047224e+02, 1.55017745e+02, 3.00692902e+04, 8.13151116e+02,\n",
       "         2.03149370e+03],\n",
       "        [2.31314907e-02, 4.57927876e-03, 8.88257421e-01, 2.40207703e-02,\n",
       "         6.00110393e-02],\n",
       "        [3.22684296e+01, 6.38809388e+00, 1.23911910e+03, 3.35089746e+01,\n",
       "         8.37153999e+01],\n",
       "        [6.93944722e-02, 1.37378363e-02, 2.66477226e+00, 7.20623109e-02,\n",
       "         1.80033118e-01],\n",
       "        [2.54446398e-01, 5.03720664e-02, 9.77083163e+00, 2.64228473e-01,\n",
       "         6.60121433e-01],\n",
       "        [1.89955802e+02, 3.76050372e+01, 7.29436994e+03, 1.97258566e+02,\n",
       "         4.92810655e+02],\n",
       "        [2.31314907e-02, 4.57927876e-03, 8.88257421e-01, 2.40207703e-02,\n",
       "         6.00110393e-02],\n",
       "        [1.32427784e+02, 2.62163709e+01, 5.08527373e+03, 1.37518910e+02,\n",
       "         3.43563200e+02],\n",
       "        [2.31314907e-02, 4.57927876e-03, 8.88257421e-01, 2.40207703e-02,\n",
       "         6.00110393e-02],\n",
       "        [3.00709379e-01, 5.95306239e-02, 1.15473465e+01, 3.12270014e-01,\n",
       "         7.80143511e-01],\n",
       "        [7.40207703e-01, 1.46536920e-01, 2.84242375e+01, 7.68664650e-01,\n",
       "         1.92035326e+00],\n",
       "        [6.15297653e+00, 1.21808815e+00, 2.36276474e+02, 6.38952490e+00,\n",
       "         1.59629365e+01],\n",
       "        [3.23840870e-01, 6.41099027e-02, 1.24356039e+01, 3.36290784e-01,\n",
       "         8.40154551e-01],\n",
       "        [4.62629814e-01, 9.15855753e-02, 1.77651484e+01, 4.80415406e-01,\n",
       "         1.20022079e+00],\n",
       "        [1.85051926e-01, 3.66342301e-02, 7.10605937e+00, 1.92166162e-01,\n",
       "         4.80088315e-01],\n",
       "        [1.54749673e+01, 3.06353749e+00, 5.94244215e+02, 1.60698953e+01,\n",
       "         4.01473853e+01],\n",
       "        [4.70494521e+01, 9.31425301e+00, 1.80671559e+03, 4.88582468e+01,\n",
       "         1.22062454e+02],\n",
       "        [9.50704269e+00, 1.88208357e+00, 3.65073800e+02, 9.87253659e+00,\n",
       "         2.46645372e+01],\n",
       "        [6.36115995e+00, 1.25930166e+00, 2.44270791e+02, 6.60571183e+00,\n",
       "         1.65030358e+01],\n",
       "        [1.57502320e+02, 3.11803091e+01, 6.04814478e+03, 1.63557425e+02,\n",
       "         4.08615167e+02],\n",
       "        [2.31314907e-02, 4.57927876e-03, 8.88257421e-01, 2.40207703e-02,\n",
       "         6.00110393e-02],\n",
       "        [1.38788944e-01, 2.74756726e-02, 5.32954453e+00, 1.44124622e-01,\n",
       "         3.60066236e-01],\n",
       "        [1.02241189e+01, 2.02404121e+00, 3.92609780e+02, 1.06171805e+01,\n",
       "         2.65248794e+01],\n",
       "        [2.31314907e-02, 4.57927876e-03, 8.88257421e-01, 2.40207703e-02,\n",
       "         6.00110393e-02],\n",
       "        [1.57294137e+00, 3.11390956e-01, 6.04015046e+01, 1.63341238e+00,\n",
       "         4.08075067e+00],\n",
       "        [2.31314907e-02, 4.57927876e-03, 8.88257421e-01, 2.40207703e-02,\n",
       "         6.00110393e-02],\n",
       "        [1.87365075e+00, 3.70921580e-01, 7.19488511e+01, 1.94568239e+00,\n",
       "         4.86089419e+00],\n",
       "        [2.52827194e+01, 5.00515169e+00, 9.70865361e+02, 2.62547019e+01,\n",
       "         6.55920660e+01],\n",
       "        [2.39642244e+01, 4.74413280e+00, 9.20234688e+02, 2.48855180e+01,\n",
       "         6.21714367e+01],\n",
       "        [1.61920435e-01, 3.20549513e-02, 6.21780195e+00, 1.68145392e-01,\n",
       "         4.20077275e-01],\n",
       "        [4.62629814e-02, 9.15855753e-03, 1.77651484e+00, 4.80415406e-02,\n",
       "         1.20022079e-01],\n",
       "        [1.61920435e-01, 3.20549513e-02, 6.21780195e+00, 1.68145392e-01,\n",
       "         4.20077275e-01],\n",
       "        [4.16366833e+00, 8.24270177e-01, 1.59886336e+02, 4.32373865e+00,\n",
       "         1.08019871e+01],\n",
       "        [1.48041541e+00, 2.93073841e-01, 5.68484749e+01, 1.53732930e+00,\n",
       "         3.84070652e+00],\n",
       "        [1.15657454e-01, 2.28963938e-02, 4.44128710e+00, 1.20103852e-01,\n",
       "         3.00055197e-01],\n",
       "        [1.10568526e+01, 2.18889525e+00, 4.24587047e+02, 1.14819282e+01,\n",
       "         2.86852768e+01],\n",
       "        [2.31314907e-02, 4.57927876e-03, 8.88257421e-01, 2.40207703e-02,\n",
       "         6.00110393e-02],\n",
       "        [2.22062311e+00, 4.39610761e-01, 8.52727124e+01, 2.30599395e+00,\n",
       "         5.76105978e+00],\n",
       "        [2.31314907e-02, 4.57927876e-03, 8.88257421e-01, 2.40207703e-02,\n",
       "         6.00110393e-02],\n",
       "        [1.82738777e+00, 3.61763022e-01, 7.01723362e+01, 1.89764085e+00,\n",
       "         4.74087211e+00],\n",
       "        [3.65477553e+00, 7.23526045e-01, 1.40344672e+02, 3.79528171e+00,\n",
       "         9.48174421e+00],\n",
       "        [1.15657454e-01, 2.28963938e-02, 4.44128710e+00, 1.20103852e-01,\n",
       "         3.00055197e-01],\n",
       "        [2.64624254e+01, 5.23869491e+00, 1.01616649e+03, 2.74797612e+01,\n",
       "         6.86526290e+01],\n",
       "        [2.82088529e+02, 5.58443045e+01, 1.08322992e+04, 2.92933294e+02,\n",
       "         7.31834625e+02],\n",
       "        [3.23840870e-01, 6.41099027e-02, 1.24356039e+01, 3.36290784e-01,\n",
       "         8.40154551e-01],\n",
       "        [2.31314907e-01, 4.57927876e-02, 8.88257421e+00, 2.40207703e-01,\n",
       "         6.00110393e-01],\n",
       "        [2.31314907e-02, 4.57927876e-03, 8.88257421e-01, 2.40207703e-02,\n",
       "         6.00110393e-02],\n",
       "        [2.66012143e+00, 5.26617058e-01, 1.02149603e+02, 2.76238858e+00,\n",
       "         6.90126952e+00],\n",
       "        [2.70638441e+00, 5.35775615e-01, 1.03926118e+02, 2.81043013e+00,\n",
       "         7.02129160e+00],\n",
       "        [2.72951590e+00, 5.40354894e-01, 1.04814376e+02, 2.83445090e+00,\n",
       "         7.08130264e+00],\n",
       "        [4.39498324e-01, 8.70062965e-02, 1.68768910e+01, 4.56394636e-01,\n",
       "         1.14020975e+00],\n",
       "        [1.85051926e-01, 3.66342301e-02, 7.10605937e+00, 1.92166162e-01,\n",
       "         4.80088315e-01],\n",
       "        [4.62629814e-02, 9.15855753e-03, 1.77651484e+00, 4.80415406e-02,\n",
       "         1.20022079e-01],\n",
       "        [2.31314907e-01, 4.57927876e-02, 8.88257421e+00, 2.40207703e-01,\n",
       "         6.00110393e-01],\n",
       "        [2.08183416e-01, 4.12135089e-02, 7.99431679e+00, 2.16186933e-01,\n",
       "         5.40099354e-01],\n",
       "        [8.09602175e-01, 1.60274757e-01, 3.10890097e+01, 8.40726961e-01,\n",
       "         2.10038638e+00],\n",
       "        [2.82204187e+00, 5.58672009e-01, 1.08367405e+02, 2.93053398e+00,\n",
       "         7.32134680e+00],\n",
       "        [4.44587252e+01, 8.80137378e+00, 1.70723076e+03, 4.61679205e+01,\n",
       "         1.15341218e+02],\n",
       "        [3.00709379e-01, 5.95306239e-02, 1.15473465e+01, 3.12270014e-01,\n",
       "         7.80143511e-01],\n",
       "        [6.40742293e+00, 1.26846022e+00, 2.46047306e+02, 6.65375337e+00,\n",
       "         1.66230579e+01],\n",
       "        [4.62629814e-02, 9.15855753e-03, 1.77651484e+00, 4.80415406e-02,\n",
       "         1.20022079e-01],\n",
       "        [1.85051926e+00, 3.66342301e-01, 7.10605937e+01, 1.92166162e+00,\n",
       "         4.80088315e+00],\n",
       "        [2.31314907e-02, 4.57927876e-03, 8.88257421e-01, 2.40207703e-02,\n",
       "         6.00110393e-02],\n",
       "        [4.95013901e+00, 9.79965655e-01, 1.90087088e+02, 5.14044484e+00,\n",
       "         1.28423624e+01],\n",
       "        [2.31314907e-02, 4.57927876e-03, 8.88257421e-01, 2.40207703e-02,\n",
       "         6.00110393e-02],\n",
       "        [3.09499346e+01, 6.12707499e+00, 1.18848843e+03, 3.21397907e+01,\n",
       "         8.02947706e+01],\n",
       "        [2.31314907e-02, 4.57927876e-03, 8.88257421e-01, 2.40207703e-02,\n",
       "         6.00110393e-02],\n",
       "        [3.63164404e+00, 7.18946766e-01, 1.39456415e+02, 3.77126094e+00,\n",
       "         9.42173318e+00],\n",
       "        [4.67256113e+00, 9.25014310e-01, 1.79427999e+02, 4.85219560e+00,\n",
       "         1.21222299e+01],\n",
       "        [9.25259629e-02, 1.83171151e-02, 3.55302968e+00, 9.60830812e-02,\n",
       "         2.40044157e-01],\n",
       "        [9.25259629e-01, 1.83171151e-01, 3.55302968e+01, 9.60830812e-01,\n",
       "         2.40044157e+00],\n",
       "        [4.62629814e-02, 9.15855753e-03, 1.77651484e+00, 4.80415406e-02,\n",
       "         1.20022079e-01],\n",
       "        [4.62629814e-02, 9.15855753e-03, 1.77651484e+00, 4.80415406e-02,\n",
       "         1.20022079e-01],\n",
       "        [5.20458541e+00, 1.03033772e+00, 1.99857920e+02, 5.40467332e+00,\n",
       "         1.35024838e+01],\n",
       "        [9.25259629e-02, 1.83171151e-02, 3.55302968e+00, 9.60830812e-02,\n",
       "         2.40044157e-01],\n",
       "        [1.28842403e+01, 2.55065827e+00, 4.94759383e+02, 1.33795691e+01,\n",
       "         3.34261489e+01],\n",
       "        [2.31314907e-02, 4.57927876e-03, 8.88257421e-01, 2.40207703e-02,\n",
       "         6.00110393e-02],\n",
       "        [9.25259629e-02, 1.83171151e-02, 3.55302968e+00, 9.60830812e-02,\n",
       "         2.40044157e-01],\n",
       "        [3.95548491e+00, 7.83056669e-01, 1.51892019e+02, 4.10755172e+00,\n",
       "         1.02618877e+01],\n",
       "        [2.77577889e-01, 5.49513452e-02, 1.06590891e+01, 2.88249244e-01,\n",
       "         7.20132472e-01],\n",
       "        [2.31314907e-02, 4.57927876e-03, 8.88257421e-01, 2.40207703e-02,\n",
       "         6.00110393e-02]]))"
      ]
     },
     "execution_count": 14,
     "metadata": {},
     "output_type": "execute_result"
    }
   ],
   "source": [
    "# Two-way Chisquare test for the relationship between Aircraft Make and flight impact\n",
    "contingencyTable = pd.crosstab(aircraft['Aircraft Make'],aircraft['Flight Impact'])\n",
    "print(contingencyTable)\n",
    "stat, p, dof, expected = stats.chi2_contingency(contingencyTable)\n",
    "stat, p, dof, expected"
   ]
  },
  {
   "cell_type": "code",
   "execution_count": 15,
   "id": "b4d93f84",
   "metadata": {},
   "outputs": [
    {
     "name": "stdout",
     "output_type": "stream",
     "text": [
      "Dependent (reject H0)\n"
     ]
    }
   ],
   "source": [
    "# interpret test-statistic\n",
    "prob = 0.95\n",
    "critical = stats.chi2.ppf(prob, dof)\n",
    "if abs(stat) >= critical:\n",
    "    print('Dependent (reject H0)')\n",
    "else:\n",
    "    print('Independent (fail to reject H0)')"
   ]
  },
  {
   "cell_type": "code",
   "execution_count": 16,
   "id": "04f8be6d",
   "metadata": {},
   "outputs": [
    {
     "name": "stdout",
     "output_type": "stream",
     "text": [
      "Flight Impact                ABORTED TAKEOFF  ENGINE SHUTDOWN  NONE  OTHER  \\\n",
      "Operator                                                                     \n",
      "1US AIRWAYS                               50               20  3230     64   \n",
      "ABELAG AVIATION                            0                0     1      0   \n",
      "ABSA AEROLINHAS BRASILEIRAS                0                0     2      0   \n",
      "ABX AIR                                    5                2  1257      9   \n",
      "ACM AVIATION                               0                0     1      0   \n",
      "...                                      ...              ...   ...    ...   \n",
      "WORLDWIDE JET CHARTER                      0                0     3      0   \n",
      "XL AIRWAYS UK                              0                0     2      0   \n",
      "XOJET                                      1                0    33      0   \n",
      "XTRA AIRWAYS                               0                1    13      1   \n",
      "ZANTOP INTL AIRLINES                       0                0     2      1   \n",
      "\n",
      "Flight Impact                PRECAUTIONARY LANDING  \n",
      "Operator                                            \n",
      "1US AIRWAYS                                    128  \n",
      "ABELAG AVIATION                                  0  \n",
      "ABSA AEROLINHAS BRASILEIRAS                      0  \n",
      "ABX AIR                                          8  \n",
      "ACM AVIATION                                     1  \n",
      "...                                            ...  \n",
      "WORLDWIDE JET CHARTER                            0  \n",
      "XL AIRWAYS UK                                    0  \n",
      "XOJET                                            3  \n",
      "XTRA AIRWAYS                                     1  \n",
      "ZANTOP INTL AIRLINES                             0  \n",
      "\n",
      "[500 rows x 5 columns]\n"
     ]
    },
    {
     "data": {
      "text/plain": [
       "(17018.064167675017,\n",
       " 0.0,\n",
       " 1996,\n",
       " array([[8.25736088e+01, 1.62549238e+01, 3.09236761e+03, 8.50662645e+01,\n",
       "         2.15737596e+02],\n",
       "        [2.36465088e-02, 4.65490373e-03, 8.85557734e-01, 2.43603278e-02,\n",
       "         6.17805258e-02],\n",
       "        [4.72930176e-02, 9.30980747e-03, 1.77111547e+00, 4.87206555e-02,\n",
       "         1.23561052e-01],\n",
       "        ...,\n",
       "        [8.74920826e-01, 1.72231438e-01, 3.27656362e+01, 9.01332127e-01,\n",
       "         2.28587946e+00],\n",
       "        [3.78344141e-01, 7.44784598e-02, 1.41689237e+01, 3.89765244e-01,\n",
       "         9.88488413e-01],\n",
       "        [7.09395265e-02, 1.39647112e-02, 2.65667320e+00, 7.30809833e-02,\n",
       "         1.85341577e-01]]))"
      ]
     },
     "execution_count": 16,
     "metadata": {},
     "output_type": "execute_result"
    }
   ],
   "source": [
    "# Two-way Chisquare test for the relationship between Operator and flight impact\n",
    "contingencyTable = pd.crosstab(aircraft['Operator'],aircraft['Flight Impact'])\n",
    "print(contingencyTable)\n",
    "stat, p, dof, expected = stats.chi2_contingency(contingencyTable)\n",
    "stat, p, dof, expected"
   ]
  },
  {
   "cell_type": "code",
   "execution_count": 17,
   "id": "3da812f4",
   "metadata": {},
   "outputs": [
    {
     "name": "stdout",
     "output_type": "stream",
     "text": [
      "Dependent (reject H0)\n"
     ]
    }
   ],
   "source": [
    "# interpret test-statistic\n",
    "prob = 0.95\n",
    "critical = stats.chi2.ppf(prob, dof)\n",
    "if abs(stat) >= critical:\n",
    "    print('Dependent (reject H0)')\n",
    "else:\n",
    "    print('Independent (fail to reject H0)')"
   ]
  }
 ],
 "metadata": {
  "kernelspec": {
   "display_name": "Python 3 (ipykernel)",
   "language": "python",
   "name": "python3"
  },
  "language_info": {
   "codemirror_mode": {
    "name": "ipython",
    "version": 3
   },
   "file_extension": ".py",
   "mimetype": "text/x-python",
   "name": "python",
   "nbconvert_exporter": "python",
   "pygments_lexer": "ipython3",
   "version": "3.11.4"
  }
 },
 "nbformat": 4,
 "nbformat_minor": 5
}
